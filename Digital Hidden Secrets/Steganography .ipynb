{
 "cells": [
  {
   "cell_type": "markdown",
   "id": "ab49f34b",
   "metadata": {},
   "source": [
    "# Digital Hidden Secrets: Mastering Hidden Messages"
   ]
  },
  {
   "cell_type": "markdown",
   "id": "bae34d58",
   "metadata": {},
   "source": [
    "IMPORT MODULES"
   ]
  },
  {
   "cell_type": "code",
   "execution_count": 1,
   "id": "91070298",
   "metadata": {},
   "outputs": [],
   "source": [
    "import subprocess\n",
    "import os"
   ]
  },
  {
   "cell_type": "markdown",
   "id": "2d629850",
   "metadata": {},
   "source": [
    "CHECK DIRECTORY EXISTENCE"
   ]
  },
  {
   "cell_type": "code",
   "execution_count": 2,
   "id": "49801aa8",
   "metadata": {},
   "outputs": [],
   "source": [
    "def ensure_directory_exists(file_path):\n",
    "    directory = os.path.dirname(file_path)\n",
    "    if directory and not os.path.exists(directory):\n",
    "        os.makedirs(directory)"
   ]
  },
  {
   "cell_type": "markdown",
   "id": "c52382b4",
   "metadata": {},
   "source": [
    "EMBEDDING DATA - ENCRYPTION "
   ]
  },
  {
   "cell_type": "code",
   "execution_count": 3,
   "id": "e3b53fa3",
   "metadata": {},
   "outputs": [],
   "source": [
    "def embed_data(input_file, secret_file, output_file, passphrase):\n",
    "    try:\n",
    "        ensure_directory_exists(output_file)\n",
    "        if os.path.exists(input_file) and os.path.exists(secret_file):\n",
    "            if os.path.exists(output_file):\n",
    "                os.remove(output_file)\n",
    "            result = subprocess.run(\n",
    "                ['steghide', 'embed', '-cf', input_file, '-ef', secret_file, '-sf', output_file, '-p', passphrase],\n",
    "                capture_output=True, text=True\n",
    "            )\n",
    "            if result.returncode == 0:\n",
    "                print(f\"Data embedded successfully into {output_file}.\")\n",
    "            else:\n",
    "                print(f\"Failed to embed data: {result.stderr}\")\n",
    "        else:\n",
    "            if not os.path.exists(input_file):\n",
    "                print(f\"Input file '{input_file}' not found.\")\n",
    "            if not os.path.exists(secret_file):\n",
    "                print(f\"Secret file '{secret_file}' not found.\")\n",
    "    except subprocess.CalledProcessError as e:\n",
    "        print(f\"Error during embedding: {e}\")\n"
   ]
  },
  {
   "cell_type": "markdown",
   "id": "51514a03",
   "metadata": {},
   "source": [
    "EXTRACTING DATA - DECRYPTION "
   ]
  },
  {
   "cell_type": "code",
   "execution_count": 4,
   "id": "2b4f6977",
   "metadata": {},
   "outputs": [],
   "source": [
    "def extract_data(stego_file, output_file, passphrase):\n",
    "    try:\n",
    "        ensure_directory_exists(output_file)\n",
    "        if os.path.exists(stego_file):\n",
    "            if os.path.exists(output_file):\n",
    "                os.remove(output_file)\n",
    "            result = subprocess.run(\n",
    "                ['steghide', 'extract', '-sf', stego_file, '-xf', output_file, '-p', passphrase],\n",
    "                capture_output=True, text=True\n",
    "            )\n",
    "            if result.returncode == 0:\n",
    "                print(f\"Data extracted successfully to {output_file}.\")\n",
    "            else:\n",
    "                print(f\"Failed to extract data: {result.stderr}\")\n",
    "        else:\n",
    "            print(f\"Stego file '{stego_file}' not found.\")\n",
    "    except subprocess.CalledProcessError as e:\n",
    "        print(f\"Error during extraction: {e}\")\n"
   ]
  },
  {
   "cell_type": "markdown",
   "id": "f6b30207",
   "metadata": {},
   "source": [
    "ANALYZER - TO DETECT WHETHER THE FILE HAS HIDDEN DATA OR NOT "
   ]
  },
  {
   "cell_type": "code",
   "execution_count": 5,
   "id": "529ad83b",
   "metadata": {},
   "outputs": [],
   "source": [
    "def analyze_file(input_file):\n",
    "    try:\n",
    "        if os.path.exists(input_file):\n",
    "            result = subprocess.run(\n",
    "                ['steghide', 'info', input_file],\n",
    "                capture_output=True, text=True\n",
    "            )\n",
    "            if \"is not a supported file format\" in result.stderr:\n",
    "                print(\"The file format is not supported.\")\n",
    "            elif result.returncode == 0:\n",
    "                print(\"No hidden data found.\")\n",
    "            else:\n",
    "                print(\"Potential hidden data detected.\")\n",
    "        else:\n",
    "            print(f\"Input file '{input_file}' not found.\")\n",
    "    except subprocess.CalledProcessError as e:\n",
    "        print(f\"Error during analysis: {e}\")\n"
   ]
  },
  {
   "cell_type": "markdown",
   "id": "e517ace5",
   "metadata": {},
   "source": [
    "MAIN FUNCTION - USER INTERFACE"
   ]
  },
  {
   "cell_type": "code",
   "execution_count": 6,
   "id": "ca8f7a40",
   "metadata": {},
   "outputs": [
    {
     "name": "stdout",
     "output_type": "stream",
     "text": [
      "\n",
      "Steganography Tool\n",
      "1. Embed Data\n",
      "2. Extract Data\n",
      "3. Analyze File for Hidden Data\n",
      "4. Exit\n",
      "Enter your choice: 1\n",
      "Enter the path of the input file (image/audio/video): C:\\Users\\felix\\Desktop\\FLEMING\\Digital Hidden Secrets\\Images\\Input file.jpg\n",
      "Enter the path of the secret file to embed: C:\\Users\\felix\\Desktop\\FLEMING\\Digital Hidden Secrets\\Text files\\Secret file.txt\n",
      "Enter the path for the output stego file: C:\\Users\\felix\\Desktop\\FLEMING\\Digital Hidden Secrets\\Images\\Output file.jpg\n",
      "Enter a passphrase: root\n",
      "Data embedded successfully into C:\\Users\\felix\\Desktop\\FLEMING\\Digital Hidden Secrets\\Images\\Output file.jpg.\n",
      "\n",
      "Steganography Tool\n",
      "1. Embed Data\n",
      "2. Extract Data\n",
      "3. Analyze File for Hidden Data\n",
      "4. Exit\n",
      "Enter your choice: 3\n",
      "Enter the path of the file to analyze: C:\\Users\\felix\\Desktop\\FLEMING\\Digital Hidden Secrets\\Images\\Output file.jpg\n",
      "Potential hidden data detected.\n",
      "\n",
      "Steganography Tool\n",
      "1. Embed Data\n",
      "2. Extract Data\n",
      "3. Analyze File for Hidden Data\n",
      "4. Exit\n",
      "Enter your choice: 2\n",
      "Enter the path of the stego file: C:\\Users\\felix\\Desktop\\FLEMING\\Digital Hidden Secrets\\Images\\Output file.jpg\n",
      "Enter the path for the extracted secret file: C:\\Users\\felix\\Desktop\\FLEMING\\Digital Hidden Secrets\\Text files\\Extracted data.txt\n",
      "Enter the passphrase: root\n",
      "Data extracted successfully to C:\\Users\\felix\\Desktop\\FLEMING\\Digital Hidden Secrets\\Text files\\Extracted data.txt.\n",
      "\n",
      "Steganography Tool\n",
      "1. Embed Data\n",
      "2. Extract Data\n",
      "3. Analyze File for Hidden Data\n",
      "4. Exit\n",
      "Enter your choice: 4\n"
     ]
    }
   ],
   "source": [
    "def main():\n",
    "    while True:\n",
    "        print(\"\\nSteganography Tool\")\n",
    "        print(\"1. Embed Data\")\n",
    "        print(\"2. Extract Data\")\n",
    "        print(\"3. Analyze File for Hidden Data\")\n",
    "        print(\"4. Exit\")\n",
    "        \n",
    "        choice = input(\"Enter your choice: \").strip()\n",
    "        \n",
    "        if choice == '1':\n",
    "            input_file = input(\"Enter the path of the input file (image/audio/video): \").strip()\n",
    "            secret_file = input(\"Enter the path of the secret file to embed: \").strip()\n",
    "            output_file = input(\"Enter the path for the output stego file: \").strip()\n",
    "            passphrase = input(\"Enter a passphrase: \").strip()\n",
    "            embed_data(input_file, secret_file, output_file, passphrase)\n",
    "        \n",
    "        elif choice == '2':\n",
    "            stego_file = input(\"Enter the path of the stego file: \").strip()\n",
    "            output_file = input(\"Enter the path for the extracted secret file: \").strip()\n",
    "            passphrase = input(\"Enter the passphrase: \").strip()\n",
    "            extract_data(stego_file, output_file, passphrase)\n",
    "        \n",
    "        elif choice == '3':\n",
    "            input_file = input(\"Enter the path of the file to analyze: \").strip()\n",
    "            analyze_file(input_file)\n",
    "        \n",
    "        elif choice == '4':\n",
    "            break\n",
    "        \n",
    "        else:\n",
    "            print(\"Invalid choice. Please try again.\")\n",
    "\n",
    "if __name__ == \"__main__\":\n",
    "    main()\n"
   ]
  },
  {
   "cell_type": "code",
   "execution_count": null,
   "id": "7456a408",
   "metadata": {},
   "outputs": [],
   "source": []
  }
 ],
 "metadata": {
  "kernelspec": {
   "display_name": "Python 3 (ipykernel)",
   "language": "python",
   "name": "python3"
  },
  "language_info": {
   "codemirror_mode": {
    "name": "ipython",
    "version": 3
   },
   "file_extension": ".py",
   "mimetype": "text/x-python",
   "name": "python",
   "nbconvert_exporter": "python",
   "pygments_lexer": "ipython3",
   "version": "3.11.4"
  }
 },
 "nbformat": 4,
 "nbformat_minor": 5
}
